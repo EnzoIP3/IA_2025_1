{
 "cells": [
  {
   "cell_type": "markdown",
   "metadata": {},
   "source": [
    "## Práctico 1: River Crossing"
   ]
  },
  {
   "cell_type": "markdown",
   "metadata": {},
   "source": [
    "El objetivo de este práctico es comenzar a familiarizarse con el funcionamiento de los ambientes de gym/gymnasium"
   ]
  },
  {
   "cell_type": "markdown",
   "metadata": {},
   "source": [
    "### Dependencias"
   ]
  },
  {
   "cell_type": "code",
<<<<<<< Updated upstream
   "execution_count": 1,
=======
   "execution_count": null,
>>>>>>> Stashed changes
   "metadata": {},
   "outputs": [],
   "source": [
    "from river_crossing_env import RiverCrossingEnv\n",
    "from input_agent import InputAgent\n",
    "from random_agent import RandomAgent\n",
    "from action_list_agent import ActionListAgent\n",
    "from simple_reflex_agent import SimpleReflexAgent\n",
    "from river_crossing_utils import finish"
   ]
  },
  {
   "cell_type": "code",
<<<<<<< Updated upstream
   "execution_count": 2,
   "metadata": {},
   "outputs": [
    {
     "name": "stdout",
     "output_type": "stream",
     "text": [
      "\n",
      "\u001b[39;1mVirtualenv\u001b[39;22m\n",
      "\u001b[34mPython\u001b[39m:         \u001b[32m3.13.2\u001b[39m\n",
      "\u001b[34mImplementation\u001b[39m: \u001b[32mCPython\u001b[39m\n",
      "\u001b[34mPath\u001b[39m:           \u001b[32m/home/enzo/Development/Facultad/Semestre 7/IA/Practico 1/.venv\u001b[39m\n",
      "\u001b[34mExecutable\u001b[39m:     \u001b[32m/home/enzo/Development/Facultad/Semestre 7/IA/Practico 1/.venv/bin/python\u001b[39m\n",
      "\u001b[34mValid\u001b[39m:          \u001b[32mTrue\u001b[39m\n",
      "\n",
      "\u001b[39;1mBase\u001b[39;22m\n",
      "\u001b[34mPlatform\u001b[39m:   \u001b[32mlinux\u001b[39m\n",
      "\u001b[34mOS\u001b[39m:         \u001b[32mposix\u001b[39m\n",
      "\u001b[34mPython\u001b[39m:     \u001b[32m3.13.2\u001b[39m\n",
      "\u001b[34mPath\u001b[39m:       \u001b[32m/usr\u001b[39m\n",
      "\u001b[34mExecutable\u001b[39m: \u001b[32m/usr/bin/python3.13\u001b[39m\n"
     ]
    }
   ],
   "source": [
    "!/home/enzo/.local/bin/poetry env info"
=======
   "execution_count": null,
   "metadata": {},
   "outputs": [],
   "source": [
    "!poetry env info"
>>>>>>> Stashed changes
   ]
  },
  {
   "cell_type": "markdown",
   "metadata": {},
   "source": [
    "### Espacio de acciones y observaciones"
   ]
  },
  {
   "cell_type": "code",
<<<<<<< Updated upstream
   "execution_count": 3,
=======
   "execution_count": null,
>>>>>>> Stashed changes
   "metadata": {},
   "outputs": [],
   "source": [
    "env = RiverCrossingEnv()"
   ]
  },
  {
   "cell_type": "code",
<<<<<<< Updated upstream
   "execution_count": 4,
   "metadata": {},
   "outputs": [
    {
     "data": {
      "text/plain": [
       "Dict('Aside': Discrete(2), 'Bside': Discrete(2), 'Cside': Discrete(2), 'Dside': Discrete(2))"
      ]
     },
     "execution_count": 4,
     "metadata": {},
     "output_type": "execute_result"
    }
   ],
=======
   "execution_count": null,
   "metadata": {},
   "outputs": [],
>>>>>>> Stashed changes
   "source": [
    "env.observation_space"
   ]
  },
  {
   "cell_type": "code",
<<<<<<< Updated upstream
   "execution_count": 5,
   "metadata": {},
   "outputs": [
    {
     "data": {
      "text/plain": [
       "OrderedDict([('Aside', np.int64(1)),\n",
       "             ('Bside', np.int64(0)),\n",
       "             ('Cside', np.int64(0)),\n",
       "             ('Dside', np.int64(0))])"
      ]
     },
     "execution_count": 5,
     "metadata": {},
     "output_type": "execute_result"
    }
   ],
=======
   "execution_count": null,
   "metadata": {},
   "outputs": [],
>>>>>>> Stashed changes
   "source": [
    "env.observation_space.sample()"
   ]
  },
  {
   "cell_type": "code",
<<<<<<< Updated upstream
   "execution_count": 6,
   "metadata": {},
   "outputs": [
    {
     "data": {
      "text/plain": [
       "Dict('direction': Discrete(2), 'person1': Discrete(4), 'person2': Discrete(4))"
      ]
     },
     "execution_count": 6,
     "metadata": {},
     "output_type": "execute_result"
    }
   ],
=======
   "execution_count": null,
   "metadata": {},
   "outputs": [],
>>>>>>> Stashed changes
   "source": [
    "env.action_space"
   ]
  },
  {
   "cell_type": "code",
<<<<<<< Updated upstream
   "execution_count": 7,
   "metadata": {},
   "outputs": [
    {
     "data": {
      "text/plain": [
       "OrderedDict([('direction', np.int64(0)),\n",
       "             ('person1', np.int64(1)),\n",
       "             ('person2', np.int64(0))])"
      ]
     },
     "execution_count": 7,
     "metadata": {},
     "output_type": "execute_result"
    }
   ],
=======
   "execution_count": null,
   "metadata": {},
   "outputs": [],
>>>>>>> Stashed changes
   "source": [
    "env.action_space.sample()"
   ]
  },
  {
   "cell_type": "markdown",
   "metadata": {},
   "source": [
    "### Input Agent"
   ]
  },
  {
   "cell_type": "markdown",
   "metadata": {},
   "source": [
    "Comencemos realizando un agente input, en el cual proporcionaremos la acción para ser ejecutada sobre el ambiente"
   ]
  },
  {
   "cell_type": "code",
<<<<<<< Updated upstream
   "execution_count": 18,
   "metadata": {},
   "outputs": [
    {
     "name": "stdout",
     "output_type": "stream",
     "text": [
      "ABCD //// Empty\n"
     ]
    },
    {
     "name": "stdout",
     "output_type": "stream",
     "text": [
      "CD //// AB\n",
      "Unexpected exception formatting exception. Falling back to standard exception\n"
     ]
    },
    {
     "name": "stderr",
     "output_type": "stream",
     "text": [
      "Traceback (most recent call last):\n",
      "  File \"/home/enzo/Development/Facultad/Semestre 7/IA/Practico 1/.venv/lib/python3.13/site-packages/IPython/core/interactiveshell.py\", line 3577, in run_code\n",
      "    exec(code_obj, self.user_global_ns, self.user_ns)\n",
      "    ~~~~^^^^^^^^^^^^^^^^^^^^^^^^^^^^^^^^^^^^^^^^^^^^^\n",
      "  File \"/tmp/ipykernel_48199/163021223.py\", line 15, in <module>\n",
      "    action = input_agent.next_action(obs)\n",
      "  File \"/home/enzo/Development/Facultad/Semestre 7/IA/Practico 1/input_agent.py\", line 12, in next_action\n",
      "    person1 = input(\"Person 1: \")\n",
      "  File \"/home/enzo/Development/Facultad/Semestre 7/IA/Practico 1/.venv/lib/python3.13/site-packages/ipykernel/kernelbase.py\", line 1282, in raw_input\n",
      "    return self._input_request(\n",
      "           ~~~~~~~~~~~~~~~~~~~^\n",
      "        str(prompt),\n",
      "        ^^^^^^^^^^^^\n",
      "    ...<2 lines>...\n",
      "        password=False,\n",
      "        ^^^^^^^^^^^^^^^\n",
      "    )\n",
      "    ^\n",
      "  File \"/home/enzo/Development/Facultad/Semestre 7/IA/Practico 1/.venv/lib/python3.13/site-packages/ipykernel/kernelbase.py\", line 1325, in _input_request\n",
      "    raise KeyboardInterrupt(msg) from None\n",
      "KeyboardInterrupt: Interrupted by user\n",
      "\n",
      "During handling of the above exception, another exception occurred:\n",
      "\n",
      "Traceback (most recent call last):\n",
      "  File \"/home/enzo/Development/Facultad/Semestre 7/IA/Practico 1/.venv/lib/python3.13/site-packages/IPython/core/interactiveshell.py\", line 2168, in showtraceback\n",
      "    stb = self.InteractiveTB.structured_traceback(\n",
      "        etype, value, tb, tb_offset=tb_offset\n",
      "    )\n",
      "  File \"/home/enzo/Development/Facultad/Semestre 7/IA/Practico 1/.venv/lib/python3.13/site-packages/IPython/core/ultratb.py\", line 1454, in structured_traceback\n",
      "    return FormattedTB.structured_traceback(\n",
      "           ~~~~~~~~~~~~~~~~~~~~~~~~~~~~~~~~^\n",
      "        self, etype, evalue, etb, tb_offset, number_of_lines_of_context\n",
      "        ^^^^^^^^^^^^^^^^^^^^^^^^^^^^^^^^^^^^^^^^^^^^^^^^^^^^^^^^^^^^^^^\n",
      "    )\n",
      "    ^\n",
      "  File \"/home/enzo/Development/Facultad/Semestre 7/IA/Practico 1/.venv/lib/python3.13/site-packages/IPython/core/ultratb.py\", line 1345, in structured_traceback\n",
      "    return VerboseTB.structured_traceback(\n",
      "           ~~~~~~~~~~~~~~~~~~~~~~~~~~~~~~^\n",
      "        self, etype, value, tb, tb_offset, number_of_lines_of_context\n",
      "        ^^^^^^^^^^^^^^^^^^^^^^^^^^^^^^^^^^^^^^^^^^^^^^^^^^^^^^^^^^^^^\n",
      "    )\n",
      "    ^\n",
      "  File \"/home/enzo/Development/Facultad/Semestre 7/IA/Practico 1/.venv/lib/python3.13/site-packages/IPython/core/ultratb.py\", line 1192, in structured_traceback\n",
      "    formatted_exception = self.format_exception_as_a_whole(etype, evalue, etb, number_of_lines_of_context,\n",
      "                                                           tb_offset)\n",
      "  File \"/home/enzo/Development/Facultad/Semestre 7/IA/Practico 1/.venv/lib/python3.13/site-packages/IPython/core/ultratb.py\", line 1082, in format_exception_as_a_whole\n",
      "    self.get_records(etb, number_of_lines_of_context, tb_offset) if etb else []\n",
      "    ~~~~~~~~~~~~~~~~^^^^^^^^^^^^^^^^^^^^^^^^^^^^^^^^^^^^^^^^^^^^\n",
      "  File \"/home/enzo/Development/Facultad/Semestre 7/IA/Practico 1/.venv/lib/python3.13/site-packages/IPython/core/ultratb.py\", line 1179, in get_records\n",
      "    res = list(stack_data.FrameInfo.stack_data(etb, options=options))[tb_offset:]\n",
      "          ~~~~^^^^^^^^^^^^^^^^^^^^^^^^^^^^^^^^^^^^^^^^^^^^^^^^^^^^^^^\n",
      "  File \"/home/enzo/Development/Facultad/Semestre 7/IA/Practico 1/.venv/lib/python3.13/site-packages/stack_data/core.py\", line 597, in stack_data\n",
      "    yield from collapse_repeated(\n",
      "    ...<4 lines>...\n",
      "    )\n",
      "  File \"/home/enzo/Development/Facultad/Semestre 7/IA/Practico 1/.venv/lib/python3.13/site-packages/stack_data/utils.py\", line 83, in collapse_repeated\n",
      "    yield from map(mapper, original_group)\n",
      "  File \"/home/enzo/Development/Facultad/Semestre 7/IA/Practico 1/.venv/lib/python3.13/site-packages/stack_data/core.py\", line 587, in mapper\n",
      "    return cls(f, options)\n",
      "  File \"/home/enzo/Development/Facultad/Semestre 7/IA/Practico 1/.venv/lib/python3.13/site-packages/stack_data/core.py\", line 551, in __init__\n",
      "    self.executing = Source.executing(frame_or_tb)\n",
      "                     ~~~~~~~~~~~~~~~~^^^^^^^^^^^^^\n",
      "  File \"/home/enzo/Development/Facultad/Semestre 7/IA/Practico 1/.venv/lib/python3.13/site-packages/executing/executing.py\", line 283, in executing\n",
      "    assert_(new_stmts <= stmts)\n",
      "    ~~~~~~~^^^^^^^^^^^^^^^^^^^^\n",
      "  File \"/home/enzo/Development/Facultad/Semestre 7/IA/Practico 1/.venv/lib/python3.13/site-packages/executing/executing.py\", line 80, in assert_\n",
      "    raise AssertionError(str(message))\n",
      "AssertionError\n"
     ]
    }
   ],
=======
   "execution_count": null,
   "metadata": {},
   "outputs": [],
>>>>>>> Stashed changes
   "source": [
    "# Instanciar el entorno\n",
    "env = RiverCrossingEnv()\n",
    "obs = env.reset()\n",
    "done = False\n",
    "\n",
    "# Instanciar el agente\n",
    "input_agent = InputAgent()\n",
    "\n",
    "# Esqueleto\n",
    "while not done:\n",
    "    # Renderizar el entorno (opcional)\n",
    "    env.render()\n",
    "    \n",
    "    # Obtener la acción del agente\n",
    "    action = input_agent.next_action(obs)\n",
    "        \n",
    "    # Ejecutar la acción en el entorno\n",
    "    obs, reward, done, info = env.step(action)\n",
    "    \n",
    "env.render()\n",
    "finish(reward)"
   ]
  },
  {
   "cell_type": "markdown",
   "metadata": {},
   "source": [
    "### Random Agent"
   ]
  },
  {
   "cell_type": "markdown",
   "metadata": {},
   "source": [
    "Codifique un agente que ejecute acciones aleatorias sobre el ambiente"
   ]
  },
  {
   "cell_type": "code",
<<<<<<< Updated upstream
   "execution_count": 16,
   "metadata": {},
   "outputs": [
    {
     "name": "stdout",
     "output_type": "stream",
     "text": [
      "ABCD //// Empty\n",
      "ABCD //// Empty\n",
      "AC //// BD\n",
      "AC //// BD\n",
      "AC //// BD\n",
      "ABC //// D\n",
      "ABC //// D\n",
      "ABC //// D\n",
      "AB //// CD\n",
      "AB //// CD\n",
      "AB //// CD\n",
      "AB //// CD\n",
      "AB //// CD\n",
      "AB //// CD\n",
      "AB //// CD\n",
      "AB //// CD\n",
      "AB //// CD\n",
      "AB //// CD\n",
      "AB //// CD\n",
      "AB //// CD\n",
      "AB //// CD\n",
      "AB //// CD\n",
      "AB //// CD\n",
      "AB //// CD\n",
      "AB //// CD\n",
      "ABCD //// Empty\n",
      "Try again!\n"
     ]
    }
   ],
=======
   "execution_count": null,
   "metadata": {},
   "outputs": [],
>>>>>>> Stashed changes
   "source": [
    "# Instanciar el entorno\n",
    "env = RiverCrossingEnv()\n",
    "obs = env.reset()\n",
    "done = False\n",
    "\n",
    "# Instanciar el agente\n",
    "input_agent = RandomAgent()\n",
    "\n",
    "# Esqueleto\n",
    "while not done:\n",
    "    # Renderizar el entorno (opcional)\n",
    "    env.render()\n",
    "    \n",
    "    # Obtener la acción del agente\n",
    "    action = input_agent.next_action(obs)\n",
    "        \n",
    "    # Ejecutar la acción en el entorno\n",
    "    obs, reward, done, info = env.step(action)\n",
    "    \n",
    "env.render()\n",
    "finish(reward)"
   ]
  },
  {
   "cell_type": "markdown",
   "metadata": {},
   "source": [
    "### Action List Agent"
   ]
  },
  {
   "cell_type": "markdown",
   "metadata": {},
   "source": [
    "Codifique un agente que ejecute acciones que provienen de una lista de acciones predefinidas. El agente debe ejecutar las acciones en orden."
   ]
  },
  {
   "cell_type": "code",
<<<<<<< Updated upstream
   "execution_count": 10,
   "metadata": {},
   "outputs": [
    {
     "name": "stdout",
     "output_type": "stream",
     "text": [
      "['RAB', 'RAB', 'RAB', 'RAB', 'RAB', 'RAB', 'RAB', 'RAB', 'RAB', 'RAB', 'RAB', 'RAB', 'RAB', 'RAB', 'RAB', 'RAB', 'RAB', 'RAB', 'RAB', 'RAB', '']\n",
      "R\n",
      "A\n",
      "B\n",
      "ABCD //// Empty\n",
      "CD //// AB\n",
      "CD //// AB\n",
      "CD //// AB\n",
      "CD //// AB\n",
      "CD //// AB\n",
      "CD //// AB\n",
      "CD //// AB\n",
      "CD //// AB\n",
      "CD //// AB\n",
      "CD //// AB\n",
      "CD //// AB\n",
      "CD //// AB\n",
      "CD //// AB\n",
      "CD //// AB\n",
      "CD //// AB\n",
      "CD //// AB\n",
      "CD //// AB\n",
      "CD //// AB\n",
      "CD //// AB\n",
      "CD //// AB\n",
      "Unexpected exception formatting exception. Falling back to standard exception\n"
     ]
    },
    {
     "name": "stderr",
     "output_type": "stream",
     "text": [
      "Traceback (most recent call last):\n",
      "  File \"/home/enzo/Development/Facultad/Semestre 7/IA/Practico 1/.venv/lib/python3.13/site-packages/IPython/core/interactiveshell.py\", line 3577, in run_code\n",
      "    exec(code_obj, self.user_global_ns, self.user_ns)\n",
      "    ~~~~^^^^^^^^^^^^^^^^^^^^^^^^^^^^^^^^^^^^^^^^^^^^^\n",
      "  File \"/tmp/ipykernel_52419/24546657.py\", line 15, in <module>\n",
      "    action = input_agent.next_action(obs)\n",
      "  File \"/home/enzo/Development/Facultad/Semestre 7/IA/Practico 1/action_list_agent.py\", line 24, in next_action\n",
      "    direction = self.action_list[self.index][0]\n",
      "                ~~~~~~~~~~~~~~~~~~~~~~~~~~~~^^^\n",
      "IndexError: string index out of range\n",
      "\n",
      "During handling of the above exception, another exception occurred:\n",
      "\n",
      "Traceback (most recent call last):\n",
      "  File \"/home/enzo/Development/Facultad/Semestre 7/IA/Practico 1/.venv/lib/python3.13/site-packages/IPython/core/interactiveshell.py\", line 2168, in showtraceback\n",
      "    stb = self.InteractiveTB.structured_traceback(\n",
      "        etype, value, tb, tb_offset=tb_offset\n",
      "    )\n",
      "  File \"/home/enzo/Development/Facultad/Semestre 7/IA/Practico 1/.venv/lib/python3.13/site-packages/IPython/core/ultratb.py\", line 1454, in structured_traceback\n",
      "    return FormattedTB.structured_traceback(\n",
      "           ~~~~~~~~~~~~~~~~~~~~~~~~~~~~~~~~^\n",
      "        self, etype, evalue, etb, tb_offset, number_of_lines_of_context\n",
      "        ^^^^^^^^^^^^^^^^^^^^^^^^^^^^^^^^^^^^^^^^^^^^^^^^^^^^^^^^^^^^^^^\n",
      "    )\n",
      "    ^\n",
      "  File \"/home/enzo/Development/Facultad/Semestre 7/IA/Practico 1/.venv/lib/python3.13/site-packages/IPython/core/ultratb.py\", line 1345, in structured_traceback\n",
      "    return VerboseTB.structured_traceback(\n",
      "           ~~~~~~~~~~~~~~~~~~~~~~~~~~~~~~^\n",
      "        self, etype, value, tb, tb_offset, number_of_lines_of_context\n",
      "        ^^^^^^^^^^^^^^^^^^^^^^^^^^^^^^^^^^^^^^^^^^^^^^^^^^^^^^^^^^^^^\n",
      "    )\n",
      "    ^\n",
      "  File \"/home/enzo/Development/Facultad/Semestre 7/IA/Practico 1/.venv/lib/python3.13/site-packages/IPython/core/ultratb.py\", line 1192, in structured_traceback\n",
      "    formatted_exception = self.format_exception_as_a_whole(etype, evalue, etb, number_of_lines_of_context,\n",
      "                                                           tb_offset)\n",
      "  File \"/home/enzo/Development/Facultad/Semestre 7/IA/Practico 1/.venv/lib/python3.13/site-packages/IPython/core/ultratb.py\", line 1082, in format_exception_as_a_whole\n",
      "    self.get_records(etb, number_of_lines_of_context, tb_offset) if etb else []\n",
      "    ~~~~~~~~~~~~~~~~^^^^^^^^^^^^^^^^^^^^^^^^^^^^^^^^^^^^^^^^^^^^\n",
      "  File \"/home/enzo/Development/Facultad/Semestre 7/IA/Practico 1/.venv/lib/python3.13/site-packages/IPython/core/ultratb.py\", line 1179, in get_records\n",
      "    res = list(stack_data.FrameInfo.stack_data(etb, options=options))[tb_offset:]\n",
      "          ~~~~^^^^^^^^^^^^^^^^^^^^^^^^^^^^^^^^^^^^^^^^^^^^^^^^^^^^^^^\n",
      "  File \"/home/enzo/Development/Facultad/Semestre 7/IA/Practico 1/.venv/lib/python3.13/site-packages/stack_data/core.py\", line 597, in stack_data\n",
      "    yield from collapse_repeated(\n",
      "    ...<4 lines>...\n",
      "    )\n",
      "  File \"/home/enzo/Development/Facultad/Semestre 7/IA/Practico 1/.venv/lib/python3.13/site-packages/stack_data/utils.py\", line 83, in collapse_repeated\n",
      "    yield from map(mapper, original_group)\n",
      "  File \"/home/enzo/Development/Facultad/Semestre 7/IA/Practico 1/.venv/lib/python3.13/site-packages/stack_data/core.py\", line 587, in mapper\n",
      "    return cls(f, options)\n",
      "  File \"/home/enzo/Development/Facultad/Semestre 7/IA/Practico 1/.venv/lib/python3.13/site-packages/stack_data/core.py\", line 551, in __init__\n",
      "    self.executing = Source.executing(frame_or_tb)\n",
      "                     ~~~~~~~~~~~~~~~~^^^^^^^^^^^^^\n",
      "  File \"/home/enzo/Development/Facultad/Semestre 7/IA/Practico 1/.venv/lib/python3.13/site-packages/executing/executing.py\", line 283, in executing\n",
      "    assert_(new_stmts <= stmts)\n",
      "    ~~~~~~~^^^^^^^^^^^^^^^^^^^^\n",
      "  File \"/home/enzo/Development/Facultad/Semestre 7/IA/Practico 1/.venv/lib/python3.13/site-packages/executing/executing.py\", line 80, in assert_\n",
      "    raise AssertionError(str(message))\n",
      "AssertionError\n"
     ]
    }
   ],
=======
   "execution_count": null,
   "metadata": {},
   "outputs": [],
>>>>>>> Stashed changes
   "source": [
    "# Instanciar el entorno\n",
    "env = RiverCrossingEnv()\n",
    "obs = env.reset()\n",
    "done = False\n",
    "\n",
    "# Instanciar el agente\n",
    "input_agent = ActionListAgent()\n",
    "\n",
    "# Esqueleto\n",
    "while not done:\n",
    "    # Renderizar el entorno (opcional)\n",
    "    env.render()\n",
    "    \n",
    "    # Obtener la acción del agente\n",
    "    action = input_agent.next_action(obs)\n",
    "        \n",
    "    # Ejecutar la acción en el entorno\n",
    "    obs, reward, done, info = env.step(action)\n",
    "    \n",
    "env.render()\n",
    "finish(reward)"
   ]
  },
  {
   "cell_type": "markdown",
   "metadata": {},
   "source": [
    "### Simple Reflex Agent"
   ]
  },
  {
   "cell_type": "markdown",
   "metadata": {},
   "source": [
    "Codifique un agente que ejecute acciones basadas en una estrategia."
   ]
  },
  {
   "cell_type": "code",
   "execution_count": null,
   "metadata": {},
   "outputs": [],
   "source": [
    "# Instanciar el entorno\n",
    "env = RiverCrossingEnv()\n",
    "obs = env.reset()\n",
    "done = False\n",
    "\n",
    "# Instanciar el agente\n",
    "input_agent = SimpleReflexAgent()\n",
    "\n",
    "# Esqueleto\n",
    "while not done:\n",
    "    # Renderizar el entorno (opcional)\n",
    "    env.render()\n",
    "    \n",
    "    # Obtener la acción del agente\n",
    "    action = input_agent.next_action(obs)\n",
    "        \n",
    "    # Ejecutar la acción en el entorno\n",
    "    obs, reward, done, info = env.step(action)\n",
    "    \n",
    "env.render()\n",
    "finish(reward)"
   ]
  }
 ],
 "metadata": {
  "kernelspec": {
<<<<<<< Updated upstream
   "display_name": ".venv",
=======
   "display_name": "Python 3",
>>>>>>> Stashed changes
   "language": "python",
   "name": "python3"
  },
  "language_info": {
   "codemirror_mode": {
    "name": "ipython",
    "version": 3
   },
   "file_extension": ".py",
   "mimetype": "text/x-python",
   "name": "python",
   "nbconvert_exporter": "python",
   "pygments_lexer": "ipython3",
<<<<<<< Updated upstream
   "version": "3.13.2"
=======
   "version": "3.10.12"
>>>>>>> Stashed changes
  }
 },
 "nbformat": 4,
 "nbformat_minor": 2
}
