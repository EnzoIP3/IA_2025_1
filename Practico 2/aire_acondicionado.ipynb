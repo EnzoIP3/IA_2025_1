{
 "cells": [
  {
   "cell_type": "code",
   "execution_count": 2,
   "metadata": {},
   "outputs": [
    {
     "name": "stderr",
     "output_type": "stream",
     "text": [
      "Matplotlib is building the font cache; this may take a moment.\n"
     ]
    }
   ],
   "source": [
    "import gymnasium\n",
    "from gymnasium import error, spaces, utils, Env\n",
    "import numpy as np\n",
    "import matplotlib.pyplot as plt\n",
    "from sklearn.metrics import mean_squared_error, mean_absolute_error"
   ]
  },
  {
   "cell_type": "markdown",
   "metadata": {},
   "source": [
    "# Descripción del problema\n",
    "\n",
    "El siguiente ejemplo consiste en un Ambiente (Room). La temperatura de la habitación cambia debido a la temperatura externa ambiente (se asume de forma desconocida). La habitación cuenta con un equipo de Aire Acondicionado controlado por un Agente. El objetivo de este Agente es mantener la temperatura en 0 grados. El Aire Acondicionado puede cambiar la temperatura en 0, 1, 2 o 3 grados ya sea frío o calor."
   ]
  },
  {
   "cell_type": "markdown",
   "metadata": {},
   "source": [
    "# Ambiente\n",
    "\n",
    "El ambiente (Room) está simulado por el siguiente código"
   ]
  },
  {
   "cell_type": "code",
   "execution_count": 3,
   "metadata": {},
   "outputs": [],
   "source": [
    "class Room(Env):\n",
    "    \n",
    "    def __init__(self):\n",
    "        self.observation_space = spaces.Box(low=-20, high=40, shape=(), dtype=np.float32)\n",
    "        self.action_space = spaces.Discrete(7, start=-3)\n",
    "                  \n",
    "    def reset(self):\n",
    "        self.step_count = 0\n",
    "        self.initial_random = self.observation_space.sample()\n",
    "        self.external_temp = 0\n",
    "        self.external_temp = self._temp_variation()\n",
    "        self.temp = self.external_temp\n",
    "        return self.temp\n",
    "    \n",
    "    def step(self, action):\n",
    "        delta_temp = self._temp_variation()\n",
    "        self.external_temp += delta_temp\n",
    "        self.temp += delta_temp + action\n",
    "        self.step_count += 1\n",
    "        return self.temp\n",
    "\n",
    "    def _temp_variation(self):\n",
    "        x = self.initial_random + self.step_count\n",
    "        return np.float64('%.2f'%(20 * np.sin(x/10))) - self.external_temp \n",
    "          "
   ]
  },
  {
   "cell_type": "markdown",
   "metadata": {},
   "source": [
    "# Test Room"
   ]
  },
  {
   "cell_type": "code",
   "execution_count": 4,
   "metadata": {},
   "outputs": [],
   "source": [
    "env = Room()"
   ]
  },
  {
   "cell_type": "code",
   "execution_count": 5,
   "metadata": {},
   "outputs": [
    {
     "data": {
      "text/plain": [
       "Box(-20.0, 40.0, (), float32)"
      ]
     },
     "execution_count": 5,
     "metadata": {},
     "output_type": "execute_result"
    }
   ],
   "source": [
    "env.observation_space"
   ]
  },
  {
   "cell_type": "code",
   "execution_count": 6,
   "metadata": {},
   "outputs": [
    {
     "data": {
      "text/plain": [
       "array(2.9444077, dtype=float32)"
      ]
     },
     "execution_count": 6,
     "metadata": {},
     "output_type": "execute_result"
    }
   ],
   "source": [
    "env.observation_space.sample()"
   ]
  },
  {
   "cell_type": "code",
   "execution_count": 7,
   "metadata": {},
   "outputs": [
    {
     "data": {
      "text/plain": [
       "Discrete(7, start=-3)"
      ]
     },
     "execution_count": 7,
     "metadata": {},
     "output_type": "execute_result"
    }
   ],
   "source": [
    "env.action_space"
   ]
  },
  {
   "cell_type": "code",
   "execution_count": 8,
   "metadata": {},
   "outputs": [
    {
     "data": {
      "text/plain": [
       "np.int64(2)"
      ]
     },
     "execution_count": 8,
     "metadata": {},
     "output_type": "execute_result"
    }
   ],
   "source": [
    "env.action_space.sample()"
   ]
  },
  {
   "cell_type": "code",
   "execution_count": 9,
   "metadata": {},
   "outputs": [
    {
     "data": {
      "text/plain": [
       "np.float64(-19.03)"
      ]
     },
     "execution_count": 9,
     "metadata": {},
     "output_type": "execute_result"
    }
   ],
   "source": [
    "env.reset()"
   ]
  },
  {
   "cell_type": "markdown",
   "metadata": {},
   "source": [
    "# Reflex Agent\n",
    "\n",
    "Esta es la implementación de un Agente Reflejo Simple, que dada la observación (temperatura de la habitación), toma una acción de enfriar o calentar en 0, 1, 2 o 3 grados. El agente solo enfría o calienta si la temperatura difiere en más de 2 grados."
   ]
  },
  {
   "cell_type": "code",
   "execution_count": null,
   "metadata": {},
   "outputs": [],
   "source": [
    "class AgentReflex():\n",
    "\n",
    "    def lookup(self, obs):\n",
    "        if obs > 9:\n",
    "            return -3\n",
    "        elif obs > 5:\n",
    "            return -2\n",
    "        elif obs > 2:\n",
    "            return -1\n",
    "        elif obs < -9:\n",
    "            return 3\n",
    "        elif obs < -5:\n",
    "            return 2\n",
    "        elif obs < -2:\n",
    "            return 1\n",
    "        else:\n",
    "            return 0"
   ]
  },
  {
   "cell_type": "markdown",
   "metadata": {},
   "source": [
    "# Test Reflex"
   ]
  },
  {
   "cell_type": "code",
   "execution_count": null,
   "metadata": {},
   "outputs": [],
   "source": [
    "agent = AgentReflex()"
   ]
  },
  {
   "cell_type": "code",
   "execution_count": null,
   "metadata": {},
   "outputs": [],
   "source": [
    "obs = env.reset()\n",
    "external_res = []\n",
    "agent_res = []\n",
    "total_steps = 100"
   ]
  },
  {
   "cell_type": "markdown",
   "metadata": {},
   "source": [
    "## Execution"
   ]
  },
  {
   "cell_type": "code",
   "execution_count": null,
   "metadata": {},
   "outputs": [],
   "source": [
    "for i in range(0, total_steps):  \n",
    "    \n",
    "    # solamente para evaluar la evolución de la temperatura de la habitación con y sin agente\n",
    "    # la temperatura de la habitación sin el agente es igual a la temperatura exterior\n",
    "    \n",
    "    external_temp = env.external_temp\n",
    "    external_res.append(external_temp)\n",
    "    \n",
    "    # decisión y acción del agente\n",
    "    \n",
    "    prev_obs = obs\n",
    "    action = agent.lookup(obs)\n",
    "    obs = env.step(action)\n",
    "    agent_res.append(obs)  \n",
    "    \n",
    "    print('External:', external_temp, '\\n','Prev. Obs:', prev_obs, '-> Action:', action, '-> Room:', obs)"
   ]
  },
  {
   "cell_type": "markdown",
   "metadata": {},
   "source": [
    "## Graficando los resultados"
   ]
  },
  {
   "cell_type": "code",
   "execution_count": null,
   "metadata": {},
   "outputs": [],
   "source": [
    "plt.axhline(color='black')                                  #Temperatura ideal\n",
    "plt.plot(range(0, total_steps), agent_res, color='red')     #Temperatura con el agente\n",
    "plt.plot(range(0, total_steps), external_res, color='blue') #Temperatura sin agente"
   ]
  },
  {
   "cell_type": "markdown",
   "metadata": {},
   "source": [
    "## Métrica de Performance\n",
    "Una posible métrica de performance, podría ser ver la temperatura media del ambiente con la acción del agente."
   ]
  },
  {
   "cell_type": "code",
   "execution_count": null,
   "metadata": {},
   "outputs": [],
   "source": [
    "print(\"Temperatura media con el agente: \", np.mean(agent_res))\n",
    "print(\"Temperatura media sin el agente: \", np.mean(external_res))"
   ]
  },
  {
   "cell_type": "markdown",
   "metadata": {},
   "source": [
    "Otra posible métrica de performance, es evaluar para cada instante de tiempo (step) cuanto difiere la temperatura obtenida de la objetivo=0. Esto se puede hacer con mean_squared_error o mean_absolute_error. \n",
    "Comparemos la métrica obtenida por el agente contra la métrica obtenida sin un agente:"
   ]
  },
  {
   "cell_type": "code",
   "execution_count": null,
   "metadata": {},
   "outputs": [],
   "source": [
    "goal_temp = np.zeros(total_steps)\n",
    "print(\"Variación media con el agente: \", mean_absolute_error(goal_temp, agent_res))\n",
    "print(\"Variación media sin el agente: \", mean_absolute_error(goal_temp, external_res))"
   ]
  },
  {
   "cell_type": "markdown",
   "metadata": {},
   "source": [
    "# Ejercicio: Model (Goal / Utility) Based Agent "
   ]
  },
  {
   "cell_type": "markdown",
   "metadata": {},
   "source": [
    "Construir un Agente basado en un modelo. \n",
    "Esto es: \n",
    "    - Construir un modelo a mano, por ejemplo un grafo, con estados y transiciones [Ver figura].\n",
    "    - Discretizar las observaciones devueltas por el ambiente mapeándolas a un estado.\n",
    "    - Tomar una decisón basada en el estado.\n",
    "    - Definir un objetivo y una utilidad\n",
    "\n",
    "Por ejemplo, el Agente podría conocer un modelo que tiene 2 estados {Frío, Calor}\n",
    "<img src=\"Modelo.png\">\n"
   ]
  },
  {
   "cell_type": "markdown",
   "metadata": {},
   "source": [
    "# Model Based Agent"
   ]
  },
  {
   "cell_type": "code",
   "execution_count": 48,
   "metadata": {},
   "outputs": [],
   "source": [
    "class SimpleModel():\n",
    "    def __init__(self):\n",
    "        self.actions = {\n",
    "            \"Frio\": {\"state\": \"Frio\", \"action\": \"calentar\", \"amount\": 1},\n",
    "            \"Calor\": {\"state\": \"Calor\", \"action\": \"enfriar\", \"amount\": -1},\n",
    "            \"Neutro\": {\"state\": \"Neutro\", \"action\": \"mantener\", \"amount\": 0}\n",
    "        }\n",
    "\n",
    "    def get_state(self, obs):\n",
    "        if obs < 0:\n",
    "            return \"Frio\"\n",
    "        elif obs > 0:\n",
    "            return \"Calor\"\n",
    "        else:\n",
    "            return \"Neutro\"\n",
    "\n",
    "    def get_action(self, state):\n",
    "        return self.actions[state]"
   ]
  },
  {
   "cell_type": "code",
   "execution_count": 57,
   "metadata": {},
   "outputs": [],
   "source": [
    "class ComplexModel():\n",
    "    def __init__(self):\n",
    "        self.actions = {\n",
    "            \"Extremadamente Frio\": {\"state\": \"Extremadamente Frio\", \"action\": \"calentar\", \"amount\": 30},\n",
    "            \"Muy Frio\": {\"state\": \"Muy Frio\", \"action\": \"calentar\", \"amount\": 20},\n",
    "            \"Frio\": {\"state\": \"Frio\", \"action\": \"calentar\", \"amount\": 10},\n",
    "            \"Levemente Frio\": {\"state\": \"Levemente Frio\", \"action\": \"calentar\", \"amount\": 3},\n",
    "            \"Neutro\": {\"state\": \"Neutro\", \"action\": \"mantener\", \"amount\": 0},\n",
    "            \"Levemente Calor\": {\"state\": \"Levemente Calor\", \"action\": \"enfriar\", \"amount\": -3},\n",
    "            \"Calor\": {\"state\": \"Calor\", \"action\": \"enfriar\", \"amount\": -10},\n",
    "            \"Muy Calor\": {\"state\": \"Muy Calor\", \"action\": \"enfriar\", \"amount\": -20},\n",
    "            \"Extremadamente Calor\": {\"state\": \"Extremadamente Calor\", \"action\": \"enfriar\", \"amount\": -30}\n",
    "        }\n",
    "\n",
    "    def get_state(self, obs):\n",
    "            if obs <= -40:\n",
    "                return \"Extremadamente Frio\"\n",
    "            elif -40 < obs <= -30:\n",
    "                return \"Muy Frio\"\n",
    "            elif -30 < obs <= -10:\n",
    "                return \"Frio\"\n",
    "            elif -10 < obs < 0:\n",
    "                return \"Levemente Frio\"\n",
    "            elif 0 <= obs <= 10:\n",
    "                return \"Neutro\"\n",
    "            elif 10 < obs <= 20:\n",
    "                return \"Levemente Calor\"\n",
    "            elif 20 < obs <= 30:\n",
    "                return \"Calor\"\n",
    "            elif 30 < obs < 40:\n",
    "                return \"Muy Calor\"\n",
    "            else:  # obs >= 40\n",
    "                return \"Extremadamente Calor\"\n",
    "    \n",
    "    def get_action(self, state):\n",
    "            return self.actions[state]"
   ]
  },
  {
   "cell_type": "code",
   "execution_count": 50,
   "metadata": {},
   "outputs": [],
   "source": [
    "class AgentModel():\n",
    "    def __init__(self, model):\n",
    "        self.model = model\n",
    "\n",
    "    def lookup(self, obs):\n",
    "        state = self.model.get_state(obs)\n",
    "        action = self.model.get_action(state)\n",
    "        return action[\"amount\"]"
   ]
  },
  {
   "cell_type": "markdown",
   "metadata": {},
   "source": [
    "# Test Model Agent"
   ]
  },
  {
   "cell_type": "code",
   "execution_count": 59,
   "metadata": {},
   "outputs": [],
   "source": [
    "model = SimpleModel()\n",
    "complexModel = ComplexModel()\n",
    "agent = AgentModel(complexModel)"
   ]
  },
  {
   "cell_type": "code",
   "execution_count": 60,
   "metadata": {},
   "outputs": [],
   "source": [
    "obs = env.reset()\n",
    "external_res = []\n",
    "agent_res = []\n",
    "total_steps = 100"
   ]
  },
  {
   "cell_type": "markdown",
   "metadata": {},
   "source": [
    "## Execution"
   ]
  },
  {
   "cell_type": "code",
   "execution_count": 61,
   "metadata": {},
   "outputs": [
    {
     "name": "stdout",
     "output_type": "stream",
     "text": [
      "External: -19.87 \n",
      " Prev. Obs: -19.87 -> Action: 10 -> Room: -9.870000000000001\n",
      "External: -19.87 \n",
      " Prev. Obs: -9.870000000000001 -> Action: 3 -> Room: -6.550000000000001\n",
      "External: -19.55 \n",
      " Prev. Obs: -6.550000000000001 -> Action: 3 -> Room: -3.030000000000001\n",
      "External: -19.03 \n",
      " Prev. Obs: -3.030000000000001 -> Action: 3 -> Room: 0.6799999999999997\n",
      "External: -18.32 \n",
      " Prev. Obs: 0.6799999999999997 -> Action: 0 -> Room: 1.5700000000000003\n",
      "External: -17.43 \n",
      " Prev. Obs: 1.5700000000000003 -> Action: 0 -> Room: 2.6400000000000006\n",
      "External: -16.36 \n",
      " Prev. Obs: 2.6400000000000006 -> Action: 0 -> Room: 3.869999999999999\n",
      "External: -15.13 \n",
      " Prev. Obs: 3.869999999999999 -> Action: 0 -> Room: 5.25\n",
      "External: -13.75 \n",
      " Prev. Obs: 5.25 -> Action: 0 -> Room: 6.77\n",
      "External: -12.23 \n",
      " Prev. Obs: 6.77 -> Action: 0 -> Room: 8.41\n",
      "External: -10.59 \n",
      " Prev. Obs: 8.41 -> Action: 0 -> Room: 10.15\n",
      "External: -8.85 \n",
      " Prev. Obs: 10.15 -> Action: -3 -> Room: 8.99\n",
      "External: -7.01 \n",
      " Prev. Obs: 8.99 -> Action: 0 -> Room: 10.89\n",
      "External: -5.11 \n",
      " Prev. Obs: 10.89 -> Action: -3 -> Room: 9.850000000000001\n",
      "External: -3.15 \n",
      " Prev. Obs: 9.850000000000001 -> Action: 0 -> Room: 11.840000000000002\n",
      "External: -1.16 \n",
      " Prev. Obs: 11.840000000000002 -> Action: -3 -> Room: 10.840000000000002\n",
      "External: 0.8400000000000001 \n",
      " Prev. Obs: 10.840000000000002 -> Action: -3 -> Room: 9.830000000000002\n",
      "External: 2.83 \n",
      " Prev. Obs: 9.830000000000002 -> Action: 0 -> Room: 11.790000000000003\n",
      "External: 4.79 \n",
      " Prev. Obs: 11.790000000000003 -> Action: -3 -> Room: 10.700000000000003\n",
      "External: 6.7 \n",
      " Prev. Obs: 10.700000000000003 -> Action: -3 -> Room: 9.550000000000004\n",
      "External: 8.55 \n",
      " Prev. Obs: 9.550000000000004 -> Action: 0 -> Room: 11.310000000000004\n",
      "External: 10.31 \n",
      " Prev. Obs: 11.310000000000004 -> Action: -3 -> Room: 9.970000000000004\n",
      "External: 11.97 \n",
      " Prev. Obs: 9.970000000000004 -> Action: 0 -> Room: 11.510000000000003\n",
      "External: 13.51 \n",
      " Prev. Obs: 11.510000000000003 -> Action: -3 -> Room: 9.920000000000003\n",
      "External: 14.92 \n",
      " Prev. Obs: 9.920000000000003 -> Action: 0 -> Room: 11.170000000000005\n",
      "External: 16.17 \n",
      " Prev. Obs: 11.170000000000005 -> Action: -3 -> Room: 9.270000000000003\n",
      "External: 17.27 \n",
      " Prev. Obs: 9.270000000000003 -> Action: 0 -> Room: 10.190000000000005\n",
      "External: 18.19 \n",
      " Prev. Obs: 10.190000000000005 -> Action: -3 -> Room: 7.930000000000003\n",
      "External: 18.93 \n",
      " Prev. Obs: 7.930000000000003 -> Action: 0 -> Room: 8.480000000000004\n",
      "External: 19.48 \n",
      " Prev. Obs: 8.480000000000004 -> Action: 0 -> Room: 8.830000000000002\n",
      "External: 19.83 \n",
      " Prev. Obs: 8.830000000000002 -> Action: 0 -> Room: 8.990000000000002\n",
      "External: 19.99 \n",
      " Prev. Obs: 8.990000000000002 -> Action: 0 -> Room: 8.950000000000003\n",
      "External: 19.95 \n",
      " Prev. Obs: 8.950000000000003 -> Action: 0 -> Room: 8.710000000000004\n",
      "External: 19.71 \n",
      " Prev. Obs: 8.710000000000004 -> Action: 0 -> Room: 8.270000000000003\n",
      "External: 19.27 \n",
      " Prev. Obs: 8.270000000000003 -> Action: 0 -> Room: 7.640000000000004\n",
      "External: 18.64 \n",
      " Prev. Obs: 7.640000000000004 -> Action: 0 -> Room: 6.820000000000004\n",
      "External: 17.82 \n",
      " Prev. Obs: 6.820000000000004 -> Action: 0 -> Room: 5.830000000000002\n",
      "External: 16.83 \n",
      " Prev. Obs: 5.830000000000002 -> Action: 0 -> Room: 4.660000000000004\n",
      "External: 15.66 \n",
      " Prev. Obs: 4.660000000000004 -> Action: 0 -> Room: 3.3400000000000034\n",
      "External: 14.34 \n",
      " Prev. Obs: 3.3400000000000034 -> Action: 0 -> Room: 1.8800000000000043\n",
      "External: 12.88 \n",
      " Prev. Obs: 1.8800000000000043 -> Action: 0 -> Room: 0.2900000000000027\n",
      "External: 11.29 \n",
      " Prev. Obs: 0.2900000000000027 -> Action: 0 -> Room: -1.4099999999999966\n",
      "External: 9.59 \n",
      " Prev. Obs: -1.4099999999999966 -> Action: 3 -> Room: -0.2199999999999962\n",
      "External: 7.78 \n",
      " Prev. Obs: -0.2199999999999962 -> Action: 3 -> Room: 0.9100000000000037\n",
      "External: 5.91 \n",
      " Prev. Obs: 0.9100000000000037 -> Action: 0 -> Room: -1.0299999999999963\n",
      "External: 3.97 \n",
      " Prev. Obs: -1.0299999999999963 -> Action: 3 -> Room: -0.009999999999996456\n",
      "External: 1.99 \n",
      " Prev. Obs: -0.009999999999996456 -> Action: 3 -> Room: 1.0000000000000036\n",
      "External: 0.0 \n",
      " Prev. Obs: 1.0000000000000036 -> Action: 0 -> Room: -0.9999999999999964\n",
      "External: -2.0 \n",
      " Prev. Obs: -0.9999999999999964 -> Action: 3 -> Room: 0.02000000000000357\n",
      "External: -3.98 \n",
      " Prev. Obs: 0.02000000000000357 -> Action: 0 -> Room: -1.9099999999999966\n",
      "External: -5.91 \n",
      " Prev. Obs: -1.9099999999999966 -> Action: 3 -> Room: -0.7899999999999965\n",
      "External: -7.79 \n",
      " Prev. Obs: -0.7899999999999965 -> Action: 3 -> Room: 0.4100000000000037\n",
      "External: -9.59 \n",
      " Prev. Obs: 0.4100000000000037 -> Action: 0 -> Room: -1.2999999999999972\n",
      "External: -11.3 \n",
      " Prev. Obs: -1.2999999999999972 -> Action: 3 -> Room: 0.11000000000000298\n",
      "External: -12.89 \n",
      " Prev. Obs: 0.11000000000000298 -> Action: 0 -> Room: -1.349999999999996\n",
      "External: -14.35 \n",
      " Prev. Obs: -1.349999999999996 -> Action: 3 -> Room: 0.3300000000000036\n",
      "External: -15.67 \n",
      " Prev. Obs: 0.3300000000000036 -> Action: 0 -> Room: -0.8299999999999947\n",
      "External: -16.83 \n",
      " Prev. Obs: -0.8299999999999947 -> Action: 3 -> Room: 1.1700000000000053\n",
      "External: -17.83 \n",
      " Prev. Obs: 1.1700000000000053 -> Action: 0 -> Room: 0.360000000000003\n",
      "External: -18.64 \n",
      " Prev. Obs: 0.360000000000003 -> Action: 0 -> Room: -0.269999999999996\n",
      "External: -19.27 \n",
      " Prev. Obs: -0.269999999999996 -> Action: 3 -> Room: 2.2900000000000027\n",
      "External: -19.71 \n",
      " Prev. Obs: 2.2900000000000027 -> Action: 0 -> Room: 2.0500000000000043\n",
      "External: -19.95 \n",
      " Prev. Obs: 2.0500000000000043 -> Action: 0 -> Room: 2.010000000000005\n",
      "External: -19.99 \n",
      " Prev. Obs: 2.010000000000005 -> Action: 0 -> Room: 2.1700000000000053\n",
      "External: -19.83 \n",
      " Prev. Obs: 2.1700000000000053 -> Action: 0 -> Room: 2.520000000000003\n",
      "External: -19.48 \n",
      " Prev. Obs: 2.520000000000003 -> Action: 0 -> Room: 3.080000000000002\n",
      "External: -18.92 \n",
      " Prev. Obs: 3.080000000000002 -> Action: 0 -> Room: 3.820000000000004\n",
      "External: -18.18 \n",
      " Prev. Obs: 3.820000000000004 -> Action: 0 -> Room: 4.740000000000002\n",
      "External: -17.26 \n",
      " Prev. Obs: 4.740000000000002 -> Action: 0 -> Room: 5.830000000000002\n",
      "External: -16.17 \n",
      " Prev. Obs: 5.830000000000002 -> Action: 0 -> Room: 7.090000000000003\n",
      "External: -14.91 \n",
      " Prev. Obs: 7.090000000000003 -> Action: 0 -> Room: 8.490000000000004\n",
      "External: -13.51 \n",
      " Prev. Obs: 8.490000000000004 -> Action: 0 -> Room: 10.030000000000003\n",
      "External: -11.97 \n",
      " Prev. Obs: 10.030000000000003 -> Action: -3 -> Room: 8.690000000000003\n",
      "External: -10.31 \n",
      " Prev. Obs: 8.690000000000003 -> Action: 0 -> Room: 10.460000000000004\n",
      "External: -8.54 \n",
      " Prev. Obs: 10.460000000000004 -> Action: -3 -> Room: 9.300000000000004\n",
      "External: -6.7 \n",
      " Prev. Obs: 9.300000000000004 -> Action: 0 -> Room: 11.220000000000004\n",
      "External: -4.78 \n",
      " Prev. Obs: 11.220000000000004 -> Action: -3 -> Room: 10.180000000000005\n",
      "External: -2.82 \n",
      " Prev. Obs: 10.180000000000005 -> Action: -3 -> Room: 9.170000000000005\n",
      "External: -0.8300000000000001 \n",
      " Prev. Obs: 9.170000000000005 -> Action: 0 -> Room: 11.170000000000005\n",
      "External: 1.17 \n",
      " Prev. Obs: 11.170000000000005 -> Action: -3 -> Room: 10.160000000000005\n",
      "External: 3.16 \n",
      " Prev. Obs: 10.160000000000005 -> Action: -3 -> Room: 9.110000000000007\n",
      "External: 5.11 \n",
      " Prev. Obs: 9.110000000000007 -> Action: 0 -> Room: 11.020000000000007\n",
      "External: 7.02 \n",
      " Prev. Obs: 11.020000000000007 -> Action: -3 -> Room: 9.850000000000007\n",
      "External: 8.85 \n",
      " Prev. Obs: 9.850000000000007 -> Action: 0 -> Room: 11.600000000000007\n",
      "External: 10.6 \n",
      " Prev. Obs: 11.600000000000007 -> Action: -3 -> Room: 10.240000000000007\n",
      "External: 12.24 \n",
      " Prev. Obs: 10.240000000000007 -> Action: -3 -> Room: 8.760000000000007\n",
      "External: 13.76 \n",
      " Prev. Obs: 8.760000000000007 -> Action: 0 -> Room: 10.140000000000008\n",
      "External: 15.14 \n",
      " Prev. Obs: 10.140000000000008 -> Action: -3 -> Room: 8.370000000000008\n",
      "External: 16.37 \n",
      " Prev. Obs: 8.370000000000008 -> Action: 0 -> Room: 9.430000000000007\n",
      "External: 17.43 \n",
      " Prev. Obs: 9.430000000000007 -> Action: 0 -> Room: 10.320000000000007\n",
      "External: 18.32 \n",
      " Prev. Obs: 10.320000000000007 -> Action: -3 -> Room: 8.030000000000008\n",
      "External: 19.03 \n",
      " Prev. Obs: 8.030000000000008 -> Action: 0 -> Room: 8.550000000000008\n",
      "External: 19.55 \n",
      " Prev. Obs: 8.550000000000008 -> Action: 0 -> Room: 8.870000000000008\n",
      "External: 19.87 \n",
      " Prev. Obs: 8.870000000000008 -> Action: 0 -> Room: 9.000000000000007\n",
      "External: 20.0 \n",
      " Prev. Obs: 9.000000000000007 -> Action: 0 -> Room: 8.920000000000009\n",
      "External: 19.92 \n",
      " Prev. Obs: 8.920000000000009 -> Action: 0 -> Room: 8.650000000000006\n",
      "External: 19.65 \n",
      " Prev. Obs: 8.650000000000006 -> Action: 0 -> Room: 8.180000000000007\n",
      "External: 19.18 \n",
      " Prev. Obs: 8.180000000000007 -> Action: 0 -> Room: 7.510000000000009\n",
      "External: 18.51 \n",
      " Prev. Obs: 7.510000000000009 -> Action: 0 -> Room: 6.670000000000009\n",
      "External: 17.67 \n",
      " Prev. Obs: 6.670000000000009 -> Action: 0 -> Room: 5.640000000000008\n"
     ]
    }
   ],
   "source": [
    "for i in range(0, total_steps):  \n",
    "    \n",
    "    # solamente para evaluar la evolución de la temperatura de la habitación con y sin agente\n",
    "    # la temperatura de la habitación sin el agente es igual a la temperatura exterior\n",
    "    \n",
    "    external_temp = env.external_temp\n",
    "    external_res.append(external_temp)\n",
    "    \n",
    "    # decisión y acción del agente\n",
    "    \n",
    "    prev_obs = obs\n",
    "    action = agent.lookup(obs)\n",
    "    obs = env.step(action)\n",
    "    agent_res.append(obs)  \n",
    "    \n",
    "    print('External:', external_temp, '\\n','Prev. Obs:', prev_obs, '-> Action:', action, '-> Room:', obs)"
   ]
  },
  {
   "cell_type": "markdown",
   "metadata": {},
   "source": [
    "## Graficando los resultados"
   ]
  },
  {
   "cell_type": "code",
   "execution_count": 62,
   "metadata": {},
   "outputs": [
    {
     "data": {
      "text/plain": [
       "[<matplotlib.lines.Line2D at 0x7e68f7ff7390>]"
      ]
     },
     "execution_count": 62,
     "metadata": {},
     "output_type": "execute_result"
    },
    {
     "data": {
      "image/png": "[encoded data removed]",
      "text/plain": [
       "<Figure size 640x480 with 1 Axes>"
      ]
     },
     "metadata": {},
     "output_type": "display_data"
    }
   ],
   "source": [
    "plt.axhline(color='black')                                  #Temperatura ideal\n",
    "plt.plot(range(0, total_steps), agent_res, color='red')     #Temperatura con el agente\n",
    "plt.plot(range(0, total_steps), external_res, color='blue') #Temperatura sin agente"
   ]
  },
  {
   "cell_type": "markdown",
   "metadata": {},
   "source": [
    "## Métrica de Performance\n",
    "Una posible métrica de performance, podría ser ver la temperatura media del ambiente con la acción del agente."
   ]
  },
  {
   "cell_type": "code",
   "execution_count": 63,
   "metadata": {},
   "outputs": [
    {
     "name": "stdout",
     "output_type": "stream",
     "text": [
      "Temperatura media con el agente:  5.856500000000003\n",
      "Temperatura media sin el agente:  0.9514\n"
     ]
    }
   ],
   "source": [
    "print(\"Temperatura media con el agente: \", np.mean(agent_res))\n",
    "print(\"Temperatura media sin el agente: \", np.mean(external_res))"
   ]
  },
  {
   "cell_type": "markdown",
   "metadata": {},
   "source": [
    "Otra posible métrica de performance, es evaluar para cada instante de tiempo (step) cuanto difiere la temperatura obtenida de la objetivo=0. Esto se puede hacer con mean_squared_error o mean_absolute_error. \n",
    "Comparemos la métrica obtenida por el agente contra la métrica obtenida sin un agente:"
   ]
  },
  {
   "cell_type": "code",
   "execution_count": 64,
   "metadata": {},
   "outputs": [
    {
     "name": "stdout",
     "output_type": "stream",
     "text": [
      "Variación media con el agente:  6.447900000000004\n",
      "Variación media sin el agente:  13.097800000000001\n"
     ]
    }
   ],
   "source": [
    "goal_temp = np.zeros(total_steps)\n",
    "print(\"Variación media con el agente: \", mean_absolute_error(goal_temp, agent_res))\n",
    "print(\"Variación media sin el agente: \", mean_absolute_error(goal_temp, external_res))"
   ]
  }
 ],
 "metadata": {
  "kernelspec": {
   "display_name": ".venv",
   "language": "python",
   "name": "python3"
  },
  "language_info": {
   "codemirror_mode": {
    "name": "ipython",
    "version": 3
   },
   "file_extension": ".py",
   "mimetype": "text/x-python",
   "name": "python",
   "nbconvert_exporter": "python",
   "pygments_lexer": "ipython3",
   "version": "3.13.2"
  }
 },
 "nbformat": 4,
 "nbformat_minor": 4
}
